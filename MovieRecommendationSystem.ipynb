{
  "nbformat": 4,
  "nbformat_minor": 0,
  "metadata": {
    "colab": {
      "provenance": [],
      "authorship_tag": "ABX9TyOZnrqbGddcV9Tvi55ys4fI",
      "include_colab_link": true
    },
    "kernelspec": {
      "name": "python3",
      "display_name": "Python 3"
    },
    "language_info": {
      "name": "python"
    }
  },
  "cells": [
    {
      "cell_type": "markdown",
      "metadata": {
        "id": "view-in-github",
        "colab_type": "text"
      },
      "source": [
        "<a href=\"https://colab.research.google.com/github/avulahemalatha-12/Movie-Recommendation-system/blob/main/MovieRecommendationSystem.ipynb\" target=\"_parent\"><img src=\"https://colab.research.google.com/assets/colab-badge.svg\" alt=\"Open In Colab\"/></a>"
      ]
    },
    {
      "cell_type": "code",
      "execution_count": 4,
      "metadata": {
        "colab": {
          "base_uri": "https://localhost:8080/"
        },
        "id": "4KSYfcMB8hwY",
        "outputId": "72515fcb-8766-4c64-bb13-fb52c3b40b05"
      },
      "outputs": [
        {
          "output_type": "stream",
          "name": "stdout",
          "text": [
            "Top 5 Movie Recommendations for the New User:\n",
            "      movieId                             title\n",
            "257       296               Pulp Fiction (1994)\n",
            "277       318  Shawshank Redemption, The (1994)\n",
            "314       356               Forrest Gump (1994)\n",
            "510       593  Silence of the Lambs, The (1991)\n",
            "1939     2571                Matrix, The (1999)\n"
          ]
        }
      ],
      "source": [
        "import pandas as pd\n",
        "from sklearn.metrics.pairwise import cosine_similarity\n",
        "import numpy as np\n",
        "\n",
        "# Step 1: Load the MovieLens Dataset\n",
        "ratings = pd.read_csv('/content/ratings.csv')\n",
        "movies = pd.read_csv('/content/movies.csv')\n",
        "\n",
        "# Step 2: Preprocess the Data\n",
        "# Create a user-item matrix\n",
        "user_movie_matrix = ratings.pivot(index='userId', columns='movieId', values='rating').fillna(0)\n",
        "\n",
        "# Step 3: Implement Collaborative Filtering\n",
        "# Calculate cosine similarity between users\n",
        "user_similarity = cosine_similarity(user_movie_matrix)\n",
        "\n",
        "# Convert to DataFrame for easier handling\n",
        "user_similarity_df = pd.DataFrame(user_similarity, index=user_movie_matrix.index, columns=user_movie_matrix.index)\n",
        "\n",
        "# Step 4: Recommend Movies for a New User\n",
        "# Ask ratings for the new user\n",
        "new_user_ratings = {\n",
        "    123: 2,  # Movie ID 123 rated 2\n",
        "    245: 3,\n",
        "    345: 5\n",
        "}\n",
        "\n",
        "# Create a DataFrame for the new user\n",
        "new_user_df = pd.DataFrame(new_user_ratings.items(), columns=['movieId', 'rating'])\n",
        "new_user_df['userId'] = 0  # Assign a user ID for the new user\n",
        "\n",
        "# Append the new user ratings to the original ratings DataFrame\n",
        "all_ratings = pd.concat([ratings, new_user_df[['userId', 'movieId', 'rating']]], ignore_index=True)\n",
        "\n",
        "# Create a new user-item matrix including the new user\n",
        "new_user_movie_matrix = all_ratings.pivot(index='userId', columns='movieId', values='rating').fillna(0)\n",
        "\n",
        "# Calculate cosine similarity for the new user\n",
        "new_user_similarity = cosine_similarity(new_user_movie_matrix)\n",
        "\n",
        "# Get the similarity scores for the new user\n",
        "new_user_similarities = new_user_similarity[0]\n",
        "\n",
        "# Get the indices of the most similar users\n",
        "similar_users_indices = np.argsort(new_user_similarities)[::-1][1:]\n",
        "similar_users_indices = similar_users_indices[similar_users_indices < user_movie_matrix.shape[0]]\n",
        "\n",
        "# Get the ratings of the most similar users using the original user_movie_matrix and the filtered indices\n",
        "similar_users_ratings = user_movie_matrix.iloc[similar_users_indices]\n",
        "\n",
        "# Calculate weighted ratings for each movie\n",
        "weighted_ratings = similar_users_ratings.T.dot(new_user_similarities[similar_users_indices])\n",
        "recommendations = weighted_ratings / np.array([np.abs(new_user_similarities[similar_users_indices]).sum()])\n",
        "\n",
        "# Get the top 5 movie recommendations\n",
        "top_recommendations = recommendations.sort_values(ascending=False).head(5)\n",
        "\n",
        "# Get movie titles for the recommended movie IDs\n",
        "recommended_movie_ids = top_recommendations.index\n",
        "recommended_movies = movies[movies['movieId'].isin(recommended_movie_ids)]\n",
        "\n",
        "# Display the recommended movies\n",
        "print(\"Top 5 Movie Recommendations for the New User:\")\n",
        "print(recommended_movies[['movieId', 'title']])"
      ]
    },
    {
      "cell_type": "code",
      "source": [],
      "metadata": {
        "id": "N7ymiKZx9IsK"
      },
      "execution_count": null,
      "outputs": []
    }
  ]
}