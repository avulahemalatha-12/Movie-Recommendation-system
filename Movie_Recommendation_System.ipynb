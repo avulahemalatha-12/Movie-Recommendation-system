{
  "nbformat": 4,
  "nbformat_minor": 0,
  "metadata": {
    "colab": {
      "provenance": [],
      "authorship_tag": "ABX9TyNg+8f0mKmZNXlfCSieUu+D",
      "include_colab_link": true
    },
    "kernelspec": {
      "name": "python3",
      "display_name": "Python 3"
    },
    "language_info": {
      "name": "python"
    }
  },
  "cells": [
    {
      "cell_type": "markdown",
      "metadata": {
        "id": "view-in-github",
        "colab_type": "text"
      },
      "source": [
        "<a href=\"https://colab.research.google.com/github/avulahemalatha-12/Movie-Recommendation-system/blob/main/Movie_Recommendation_System.ipynb\" target=\"_parent\"><img src=\"https://colab.research.google.com/assets/colab-badge.svg\" alt=\"Open In Colab\"/></a>"
      ]
    },
    {
      "cell_type": "code",
      "execution_count": 6,
      "metadata": {
        "colab": {
          "base_uri": "https://localhost:8080/"
        },
        "id": "ORfd5nGusQbX",
        "outputId": "14a79f21-3f05-4ff5-92ff-e94e4f31a82e"
      },
      "outputs": [
        {
          "output_type": "stream",
          "name": "stdout",
          "text": [
            "   userId  movieId  rating  timestamp\n",
            "0       1        1     4.0  964982703\n",
            "1       1        3     4.0  964981247\n",
            "2       1        6     4.0  964982224\n",
            "3       1       47     5.0  964983815\n",
            "4       1       50     5.0  964982931\n",
            "   movieId                               title  \\\n",
            "0        1                    Toy Story (1995)   \n",
            "1        2                      Jumanji (1995)   \n",
            "2        3             Grumpier Old Men (1995)   \n",
            "3        4            Waiting to Exhale (1995)   \n",
            "4        5  Father of the Bride Part II (1995)   \n",
            "\n",
            "                                        genres  \n",
            "0  Adventure|Animation|Children|Comedy|Fantasy  \n",
            "1                   Adventure|Children|Fantasy  \n",
            "2                               Comedy|Romance  \n",
            "3                         Comedy|Drama|Romance  \n",
            "4                                       Comedy  \n"
          ]
        }
      ],
      "source": [
        "import pandas as pd\n",
        "\n",
        "# Load the dataset\n",
        "ratings = pd.read_csv('/content/ratings.csv')\n",
        "movies = pd.read_csv('/content/movies.csv')\n",
        "\n",
        "print(ratings.head())\n",
        "print(movies.head())"
      ]
    },
    {
      "cell_type": "code",
      "source": [
        "# Create a user-item matrix\n",
        "user_movie_matrix = ratings.pivot(index='userId', columns='movieId', values='rating').fillna(0)\n",
        "\n",
        "print(user_movie_matrix.head())"
      ],
      "metadata": {
        "colab": {
          "base_uri": "https://localhost:8080/"
        },
        "id": "tDMBEmG_tppZ",
        "outputId": "bb39025d-69d7-4fda-9761-c606c7e3dc19"
      },
      "execution_count": 7,
      "outputs": [
        {
          "output_type": "stream",
          "name": "stdout",
          "text": [
            "movieId  1       2       3       4       5       6       7       8       \\\n",
            "userId                                                                    \n",
            "1           4.0     0.0     4.0     0.0     0.0     4.0     0.0     0.0   \n",
            "2           0.0     0.0     0.0     0.0     0.0     0.0     0.0     0.0   \n",
            "3           0.0     0.0     0.0     0.0     0.0     0.0     0.0     0.0   \n",
            "4           0.0     0.0     0.0     0.0     0.0     0.0     0.0     0.0   \n",
            "5           4.0     0.0     0.0     0.0     0.0     0.0     0.0     0.0   \n",
            "\n",
            "movieId  9       10      ...  193565  193567  193571  193573  193579  193581  \\\n",
            "userId                   ...                                                   \n",
            "1           0.0     0.0  ...     0.0     0.0     0.0     0.0     0.0     0.0   \n",
            "2           0.0     0.0  ...     0.0     0.0     0.0     0.0     0.0     0.0   \n",
            "3           0.0     0.0  ...     0.0     0.0     0.0     0.0     0.0     0.0   \n",
            "4           0.0     0.0  ...     0.0     0.0     0.0     0.0     0.0     0.0   \n",
            "5           0.0     0.0  ...     0.0     0.0     0.0     0.0     0.0     0.0   \n",
            "\n",
            "movieId  193583  193585  193587  193609  \n",
            "userId                                   \n",
            "1           0.0     0.0     0.0     0.0  \n",
            "2           0.0     0.0     0.0     0.0  \n",
            "3           0.0     0.0     0.0     0.0  \n",
            "4           0.0     0.0     0.0     0.0  \n",
            "5           0.0     0.0     0.0     0.0  \n",
            "\n",
            "[5 rows x 9724 columns]\n"
          ]
        }
      ]
    },
    {
      "cell_type": "code",
      "source": [
        "from sklearn.metrics.pairwise import cosine_similarity\n",
        "import numpy as np\n",
        "\n",
        "# Calculate cosine similarity between users\n",
        "user_similarity = cosine_similarity(user_movie_matrix)\n",
        "\n",
        "# Convert to DataFrame for easier handling\n",
        "user_similarity_df = pd.DataFrame(user_similarity, index=user_movie_matrix.index, columns=user_movie_matrix.index)\n",
        "\n",
        "print(user_similarity_df.head())"
      ],
      "metadata": {
        "colab": {
          "base_uri": "https://localhost:8080/"
        },
        "id": "8Wj-ZziCtzsL",
        "outputId": "29f55181-ed7c-4c06-8d94-872c519d5df4"
      },
      "execution_count": 8,
      "outputs": [
        {
          "output_type": "stream",
          "name": "stdout",
          "text": [
            "userId       1         2         3         4         5         6         7    \\\n",
            "userId                                                                         \n",
            "1       1.000000  0.027283  0.059720  0.194395  0.129080  0.128152  0.158744   \n",
            "2       0.027283  1.000000  0.000000  0.003726  0.016614  0.025333  0.027585   \n",
            "3       0.059720  0.000000  1.000000  0.002251  0.005020  0.003936  0.000000   \n",
            "4       0.194395  0.003726  0.002251  1.000000  0.128659  0.088491  0.115120   \n",
            "5       0.129080  0.016614  0.005020  0.128659  1.000000  0.300349  0.108342   \n",
            "\n",
            "userId       8         9         10   ...       601       602       603  \\\n",
            "userId                                ...                                 \n",
            "1       0.136968  0.064263  0.016875  ...  0.080554  0.164455  0.221486   \n",
            "2       0.027257  0.000000  0.067445  ...  0.202671  0.016866  0.011997   \n",
            "3       0.004941  0.000000  0.000000  ...  0.005048  0.004892  0.024992   \n",
            "4       0.062969  0.011361  0.031163  ...  0.085938  0.128273  0.307973   \n",
            "5       0.429075  0.000000  0.030611  ...  0.068048  0.418747  0.110148   \n",
            "\n",
            "userId       604       605       606       607       608       609       610  \n",
            "userId                                                                        \n",
            "1       0.070669  0.153625  0.164191  0.269389  0.291097  0.093572  0.145321  \n",
            "2       0.000000  0.000000  0.028429  0.012948  0.046211  0.027565  0.102427  \n",
            "3       0.000000  0.010694  0.012993  0.019247  0.021128  0.000000  0.032119  \n",
            "4       0.052985  0.084584  0.200395  0.131746  0.149858  0.032198  0.107683  \n",
            "5       0.258773  0.148758  0.106435  0.152866  0.135535  0.261232  0.060792  \n",
            "\n",
            "[5 rows x 610 columns]\n"
          ]
        }
      ]
    },
    {
      "cell_type": "code",
      "source": [
        "# Provide Ratings for the new user\n",
        "new_user_ratings = {\n",
        "    1: 5,\n",
        "    2: 3,\n",
        "    3: 4\n",
        "}\n",
        "\n",
        "# Create a DataFrame for the new user\n",
        "new_user_df = pd.DataFrame(new_user_ratings.items(), columns=['movieId', 'rating'])\n",
        "new_user_df['userId'] = 0\n",
        "\n",
        "# Append the new user ratings to the original ratings DataFrame\n",
        "all_ratings = pd.concat([ratings, new_user_df[['userId', 'movieId', 'rating']]], ignore_index=True)\n",
        "\n",
        "# Create a new user-item matrix including the new user\n",
        "new_user_movie_matrix = all_ratings.pivot(index='userId', columns='movieId', values='rating').fillna(0)\n",
        "\n",
        "# Calculate cosine similarity for the new user\n",
        "new_user_similarity = cosine_similarity(new_user_movie_matrix)\n",
        "\n",
        "# Get the similarity scores for the new user\n",
        "new_user_similarities = new_user_similarity[0]\n",
        "\n",
        "# Get the indices of the most similar users\n",
        "similar_users_indices = np.argsort(new_user_similarities)[::-1][1:]\n",
        "similar_users_indices = similar_users_indices[similar_users_indices < user_movie_matrix.shape[0]]\n",
        "\n",
        "# Get the ratings of the most similar users using the original user_movie_matrix and the filtered indices\n",
        "similar_users_ratings = user_movie_matrix.iloc[similar_users_indices]\n",
        "\n",
        "# Calculate weighted ratings for each movie\n",
        "weighted_ratings = similar_users_ratings.T.dot(new_user_similarities[similar_users_indices])\n",
        "recommendations = weighted_ratings / np.array([np.abs(new_user_similarities[similar_users_indices]).sum()])\n",
        "\n",
        "# Get the top 5 movie recommendations\n",
        "top_recommendations = recommendations.sort_values(ascending=False).head(5)\n",
        "\n",
        "# Get movie titles for the recommended movie IDs\n",
        "recommended_movie_ids = top_recommendations.index\n",
        "recommended_movies = movies[movies['movieId'].isin(recommended_movie_ids)]\n",
        "\n",
        "print(\"Recommended Movies for the new user:\")\n",
        "print(recommended_movies[['movieId', 'title']])"
      ],
      "metadata": {
        "colab": {
          "base_uri": "https://localhost:8080/"
        },
        "id": "rirk8AmfvEZD",
        "outputId": "88c6da53-1bac-4eb2-9488-ee156b478455"
      },
      "execution_count": 9,
      "outputs": [
        {
          "output_type": "stream",
          "name": "stdout",
          "text": [
            "Recommended Movies for the new user:\n",
            "     movieId                                      title\n",
            "224      260  Star Wars: Episode IV - A New Hope (1977)\n",
            "257      296                        Pulp Fiction (1994)\n",
            "277      318           Shawshank Redemption, The (1994)\n",
            "314      356                        Forrest Gump (1994)\n",
            "510      593           Silence of the Lambs, The (1991)\n"
          ]
        }
      ]
    }
  ]
}